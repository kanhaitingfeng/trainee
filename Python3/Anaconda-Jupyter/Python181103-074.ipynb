{
 "cells": [
  {
   "cell_type": "markdown",
   "metadata": {},
   "source": [
    "# 题目：列表排序及连接。\n",
    "\n",
    "## 程序分析：排序可使用 sort() 方法，连接可以使用 + 号或 extend() 方法。\n",
    "\n",
    "### 程序源代码："
   ]
  },
  {
   "cell_type": "code",
   "execution_count": 3,
   "metadata": {},
   "outputs": [
    {
     "name": "stdout",
     "output_type": "stream",
     "text": [
      "[1, 2, 3]\n",
      "[1, 2, 3, 3, 4, 5]\n",
      "[1, 2, 3, 3, 4, 5]\n"
     ]
    }
   ],
   "source": [
    "if __name__ == '__main__':\n",
    "    a = [1,3,2]\n",
    "    b = [3,4,5]\n",
    "    a.sort()     # 对列表 a 进行排序\n",
    "    print (a)\n",
    " \n",
    "    # 连接列表 a 与 b\n",
    "    print (a+b)\n",
    "    \n",
    "    # 连接列表 a 与 b\n",
    "    a.extend(b)\n",
    "    print (a)"
   ]
  },
  {
   "cell_type": "code",
   "execution_count": null,
   "metadata": {
    "collapsed": true
   },
   "outputs": [],
   "source": []
  }
 ],
 "metadata": {
  "kernelspec": {
   "display_name": "Python 3",
   "language": "python",
   "name": "python3"
  },
  "language_info": {
   "codemirror_mode": {
    "name": "ipython",
    "version": 3
   },
   "file_extension": ".py",
   "mimetype": "text/x-python",
   "name": "python",
   "nbconvert_exporter": "python",
   "pygments_lexer": "ipython3",
   "version": "3.6.3"
  }
 },
 "nbformat": 4,
 "nbformat_minor": 2
}
